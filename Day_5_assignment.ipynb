{
  "nbformat": 4,
  "nbformat_minor": 0,
  "metadata": {
    "colab": {
      "name": "Day 5 assignment",
      "provenance": [],
      "collapsed_sections": [],
      "authorship_tag": "ABX9TyM3H5PJ7MYaKGmOyKk2WIUe",
      "include_colab_link": true
    },
    "kernelspec": {
      "name": "python3",
      "display_name": "Python 3"
    }
  },
  "cells": [
    {
      "cell_type": "markdown",
      "metadata": {
        "id": "view-in-github",
        "colab_type": "text"
      },
      "source": [
        "<a href=\"https://colab.research.google.com/github/Nivethalenart/Day-5-Assignment/blob/master/Day_5_assignment.ipynb\" target=\"_parent\"><img src=\"https://colab.research.google.com/assets/colab-badge.svg\" alt=\"Open In Colab\"/></a>"
      ]
    },
    {
      "cell_type": "code",
      "metadata": {
        "id": "S5LCr8Vqp3oB",
        "colab_type": "code",
        "colab": {
          "base_uri": "https://localhost:8080/",
          "height": 88
        },
        "outputId": "d8b69de5-4571-4cdd-b8cb-0c2a7e0b10a5"
      },
      "source": [
        " \n",
        "test_list1 = [1, 5, 6, 9, 11] \n",
        "test_list2 = [3, 4, 7, 8, 10] \n",
        "print (\"The original list 1 is : \" + str(test_list1)) \n",
        "print (\"The original list 2 is : \" + str(test_list2)) \n",
        "size_1 = len(test_list1) \n",
        "size_2 = len(test_list2)\n",
        "res = [] \n",
        "i, j = 0, 0\n",
        "while i < size_1 and j < size_2: \n",
        " \n",
        "    if test_list1[i] < test_list2[j]: \n",
        " \n",
        "      res.append(test_list1[i]) \n",
        " \n",
        "      i += 1\n",
        " \n",
        "    else: \n",
        " \n",
        "      res.append(test_list2[j]) \n",
        " \n",
        "      j += 1\n",
        " \n",
        "res = res + test_list1[i:] + test_list2[j:] \n",
        " \n",
        "  \n",
        " \n",
        " \n",
        "print (\"The combined sorted list\")"
      ],
      "execution_count": 1,
      "outputs": [
        {
          "output_type": "stream",
          "text": [
            "The original list 1 is : [1, 5, 6, 9, 11]\n",
            "The original list 2 is : [3, 4, 7, 8, 10]\n",
            "The combined sorted list\n"
          ],
          "name": "stdout"
        }
      ]
    },
    {
      "cell_type": "code",
      "metadata": {
        "id": "hDAeP8zZp_B7",
        "colab_type": "code",
        "colab": {
          "base_uri": "https://localhost:8080/",
          "height": 51
        },
        "outputId": "27ce87e3-3a5c-4544-cce9-7a117d939c98"
      },
      "source": [
        " \n",
        "def sortSecond(val): \n",
        " \n",
        "    return val[1]  \n",
        " \n",
        "   \n",
        " \n",
        "list1 = [(1, 2), (3, 3), (1, 1)] \n",
        " \n",
        "  \n",
        " \n",
        " \n",
        "list1.sort(key = sortSecond)  \n",
        " \n",
        "print(list1) \n",
        " \n",
        "  \n",
        " \n",
        " \n",
        "list1.sort(key = sortSecond, reverse = True) \n",
        " \n",
        "print(list1)"
      ],
      "execution_count": 2,
      "outputs": [
        {
          "output_type": "stream",
          "text": [
            "[(1, 1), (1, 2), (3, 3)]\n",
            "[(3, 3), (1, 2), (1, 1)]\n"
          ],
          "name": "stdout"
        }
      ]
    }
  ]
}